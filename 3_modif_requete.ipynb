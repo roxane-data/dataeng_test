{
 "cells": [
  {
   "cell_type": "markdown",
   "id": "41e883f6-2f18-4dd7-a0bb-b1c6771405a7",
   "metadata": {},
   "source": [
    "# Imports"
   ]
  },
  {
   "cell_type": "code",
   "execution_count": 1,
   "id": "b7db9bcb-21aa-421d-83a3-21aaabece054",
   "metadata": {},
   "outputs": [],
   "source": [
    "import mysql.connector as mysqlConnector\n",
    "import pandas as pd \n",
    "import numpy as np"
   ]
  },
  {
   "cell_type": "markdown",
   "id": "5499c9ae-8a01-4a4a-9a71-44a350189d0c",
   "metadata": {
    "tags": []
   },
   "source": [
    "# Connection à la bdd"
   ]
  },
  {
   "cell_type": "code",
   "execution_count": 2,
   "id": "580d2f84-ea84-4ace-803d-3c3be60d41f8",
   "metadata": {},
   "outputs": [
    {
     "name": "stdout",
     "output_type": "stream",
     "text": [
      "Connection Successful!\n",
      "('dataengineer',)\n",
      "('information_schema',)\n",
      "('mysql',)\n",
      "('performance_schema',)\n",
      "('sys',)\n",
      "('testwildcode',)\n"
     ]
    }
   ],
   "source": [
    "conn = mysqlConnector.connect(host='Localhost',user='root',passwd='*****', database='dataengineer')\n",
    "if conn:\n",
    "    print(\"Connection Successful!\")\n",
    "else:\n",
    "    print(\"Connection Failed!\")\n",
    "cur = conn.cursor()\n",
    "cur.execute(\"SHOW DATABASES\")\n",
    "for row in cur:\n",
    "    print(row)"
   ]
  },
  {
   "cell_type": "code",
   "execution_count": 3,
   "id": "62ad48e8-33ed-454e-be72-f3bc4cd9042b",
   "metadata": {},
   "outputs": [
    {
     "name": "stdout",
     "output_type": "stream",
     "text": [
      "('actor',)\n",
      "('address',)\n",
      "('address_test',)\n",
      "('category',)\n",
      "('customer',)\n",
      "('film',)\n",
      "('film_actor',)\n",
      "('film_category',)\n",
      "('film_text',)\n",
      "('inventory',)\n",
      "('language',)\n",
      "('payment',)\n",
      "('rental',)\n",
      "('staff',)\n",
      "('store',)\n"
     ]
    }
   ],
   "source": [
    "cur.execute(\"SHOW TABLES\")\n",
    "for row in cur:\n",
    "    print(row)"
   ]
  },
  {
   "cell_type": "code",
   "execution_count": 4,
   "id": "37dd71ca-c0a0-4a1c-a130-b42605baa19e",
   "metadata": {},
   "outputs": [
    {
     "name": "stdout",
     "output_type": "stream",
     "text": [
      "(0, 1, '318 CHE DE ROUMAGOUA', 'LA CIOTAT', '13600', 43.197642, 5.6078904)\n",
      "(1, 2, '19 RUE DES DAMES', 'SAINTE SAVINE', '10300', 48.2909051, 4.0457894)\n"
     ]
    }
   ],
   "source": [
    "cur.execute(\"SELECT * FROM address_test LIMIT 2\")\n",
    "for row in cur:\n",
    "    print(row)"
   ]
  },
  {
   "cell_type": "markdown",
   "id": "8719b094-306a-4014-9d8b-d9c24bec49d0",
   "metadata": {},
   "source": [
    "# Modification de la table address avec ajout des 2 colonnes latitude et longitude"
   ]
  },
  {
   "cell_type": "code",
   "execution_count": null,
   "id": "20494f40-3cbb-4b4d-80b5-cee96c469650",
   "metadata": {},
   "outputs": [],
   "source": [
    "cur.execute(\"ALTER TABLE address ADD COLUMN latitude DECIMAL(11,7),ADD COLUMN longitude DECIMAL(11,7);\")"
   ]
  },
  {
   "cell_type": "code",
   "execution_count": 12,
   "id": "736d950f-9321-4fa5-bf8a-e1a7bae2bd6a",
   "metadata": {},
   "outputs": [
    {
     "data": {
      "text/html": [
       "<div>\n",
       "<style scoped>\n",
       "    .dataframe tbody tr th:only-of-type {\n",
       "        vertical-align: middle;\n",
       "    }\n",
       "\n",
       "    .dataframe tbody tr th {\n",
       "        vertical-align: top;\n",
       "    }\n",
       "\n",
       "    .dataframe thead th {\n",
       "        text-align: right;\n",
       "    }\n",
       "</style>\n",
       "<table border=\"1\" class=\"dataframe\">\n",
       "  <thead>\n",
       "    <tr style=\"text-align: right;\">\n",
       "      <th></th>\n",
       "      <th>address_id</th>\n",
       "      <th>address</th>\n",
       "      <th>city</th>\n",
       "      <th>postal_code</th>\n",
       "      <th>latitude</th>\n",
       "      <th>longitude</th>\n",
       "    </tr>\n",
       "  </thead>\n",
       "  <tbody>\n",
       "    <tr>\n",
       "      <th>0</th>\n",
       "      <td>1</td>\n",
       "      <td>318 CHE DE ROUMAGOUA</td>\n",
       "      <td>LA CIOTAT</td>\n",
       "      <td>13600</td>\n",
       "      <td>43.197642</td>\n",
       "      <td>5.607890</td>\n",
       "    </tr>\n",
       "    <tr>\n",
       "      <th>1</th>\n",
       "      <td>2</td>\n",
       "      <td>19 RUE DES DAMES</td>\n",
       "      <td>SAINTE SAVINE</td>\n",
       "      <td>10300</td>\n",
       "      <td>48.290905</td>\n",
       "      <td>4.045789</td>\n",
       "    </tr>\n",
       "    <tr>\n",
       "      <th>2</th>\n",
       "      <td>3</td>\n",
       "      <td>22 RUE AMIRAL GUEPRATTE</td>\n",
       "      <td>LE CONQUET</td>\n",
       "      <td>29217</td>\n",
       "      <td>48.361340</td>\n",
       "      <td>-4.766800</td>\n",
       "    </tr>\n",
       "    <tr>\n",
       "      <th>3</th>\n",
       "      <td>4</td>\n",
       "      <td>6 BD DES ETINES</td>\n",
       "      <td>LE COTEAU</td>\n",
       "      <td>42120</td>\n",
       "      <td>46.021659</td>\n",
       "      <td>4.092120</td>\n",
       "    </tr>\n",
       "    <tr>\n",
       "      <th>4</th>\n",
       "      <td>5</td>\n",
       "      <td>35 AV DU 159EME RIA</td>\n",
       "      <td>BRIANCON</td>\n",
       "      <td>5100</td>\n",
       "      <td>NaN</td>\n",
       "      <td>NaN</td>\n",
       "    </tr>\n",
       "    <tr>\n",
       "      <th>...</th>\n",
       "      <td>...</td>\n",
       "      <td>...</td>\n",
       "      <td>...</td>\n",
       "      <td>...</td>\n",
       "      <td>...</td>\n",
       "      <td>...</td>\n",
       "    </tr>\n",
       "    <tr>\n",
       "      <th>557</th>\n",
       "      <td>601</td>\n",
       "      <td>20 RUE COLI</td>\n",
       "      <td>MONTREUIL</td>\n",
       "      <td>93100</td>\n",
       "      <td>48.868459</td>\n",
       "      <td>2.468415</td>\n",
       "    </tr>\n",
       "    <tr>\n",
       "      <th>558</th>\n",
       "      <td>602</td>\n",
       "      <td>6 AV JEAN JAURES</td>\n",
       "      <td>FEURS</td>\n",
       "      <td>42110</td>\n",
       "      <td>45.743563</td>\n",
       "      <td>4.226839</td>\n",
       "    </tr>\n",
       "    <tr>\n",
       "      <th>559</th>\n",
       "      <td>603</td>\n",
       "      <td>1 RUE HENRI RENAUDIN</td>\n",
       "      <td>CHARLEVILLE-MEZIERES</td>\n",
       "      <td>8000</td>\n",
       "      <td>49.773546</td>\n",
       "      <td>4.708829</td>\n",
       "    </tr>\n",
       "    <tr>\n",
       "      <th>560</th>\n",
       "      <td>604</td>\n",
       "      <td>2 RUE DE LYON</td>\n",
       "      <td>EPINAY SUR SEINE</td>\n",
       "      <td>93800</td>\n",
       "      <td>48.953836</td>\n",
       "      <td>2.292919</td>\n",
       "    </tr>\n",
       "    <tr>\n",
       "      <th>561</th>\n",
       "      <td>605</td>\n",
       "      <td>4 RUE DENIS PAPIN</td>\n",
       "      <td>BLAIN</td>\n",
       "      <td>44130</td>\n",
       "      <td>47.482766</td>\n",
       "      <td>-1.747235</td>\n",
       "    </tr>\n",
       "  </tbody>\n",
       "</table>\n",
       "<p>562 rows × 6 columns</p>\n",
       "</div>"
      ],
      "text/plain": [
       "     address_id                  address                  city postal_code  \\\n",
       "0             1     318 CHE DE ROUMAGOUA             LA CIOTAT       13600   \n",
       "1             2         19 RUE DES DAMES         SAINTE SAVINE       10300   \n",
       "2             3  22 RUE AMIRAL GUEPRATTE            LE CONQUET       29217   \n",
       "3             4          6 BD DES ETINES             LE COTEAU       42120   \n",
       "4             5      35 AV DU 159EME RIA              BRIANCON        5100   \n",
       "..          ...                      ...                   ...         ...   \n",
       "557         601              20 RUE COLI             MONTREUIL       93100   \n",
       "558         602         6 AV JEAN JAURES                 FEURS       42110   \n",
       "559         603     1 RUE HENRI RENAUDIN  CHARLEVILLE-MEZIERES        8000   \n",
       "560         604            2 RUE DE LYON      EPINAY SUR SEINE       93800   \n",
       "561         605        4 RUE DENIS PAPIN                 BLAIN       44130   \n",
       "\n",
       "      latitude  longitude  \n",
       "0    43.197642   5.607890  \n",
       "1    48.290905   4.045789  \n",
       "2    48.361340  -4.766800  \n",
       "3    46.021659   4.092120  \n",
       "4          NaN        NaN  \n",
       "..         ...        ...  \n",
       "557  48.868459   2.468415  \n",
       "558  45.743563   4.226839  \n",
       "559  49.773546   4.708829  \n",
       "560  48.953836   2.292919  \n",
       "561  47.482766  -1.747235  \n",
       "\n",
       "[562 rows x 6 columns]"
      ]
     },
     "execution_count": 12,
     "metadata": {},
     "output_type": "execute_result"
    }
   ],
   "source": [
    "# Set SQL query as a comment\n",
    "sql_query = ''' SELECT * FROM address '''\n",
    "\n",
    "# Use pandas to pass sql query using connection form SQLite3\n",
    "df = pd.read_sql(sql_query, conn)\n",
    "\n",
    "# Show the resulting DataFrame\n",
    "df"
   ]
  },
  {
   "cell_type": "markdown",
   "id": "964380b5-56a3-4bed-991c-82ef6b523698",
   "metadata": {},
   "source": [
    "## Ajout des données correspondantes"
   ]
  },
  {
   "cell_type": "code",
   "execution_count": 9,
   "id": "8f0dc9e0-1736-4815-ad1f-51de240f43c8",
   "metadata": {},
   "outputs": [],
   "source": [
    "cur.execute(\"UPDATE address ad1 INNER JOIN address_test ad2 ON ad1.address_id = ad2.address_id SET ad1.latitude = ad2.latitude;\")"
   ]
  },
  {
   "cell_type": "code",
   "execution_count": 11,
   "id": "1d46c61b-f38e-4902-b49e-68c39cf4aa51",
   "metadata": {},
   "outputs": [],
   "source": [
    "cur.execute(\"UPDATE address ad1 INNER JOIN address_test ad2 ON ad1.address_id = ad2.address_id SET ad1.longitude = ad2.longitude;\")"
   ]
  },
  {
   "cell_type": "markdown",
   "id": "377a03c7-7ea2-451b-ae4b-af7cd1d90a71",
   "metadata": {},
   "source": [
    "## Suppression de la table temporaire address_test"
   ]
  },
  {
   "cell_type": "code",
   "execution_count": 18,
   "id": "4439874f-cc88-40e0-84c0-4a160583b584",
   "metadata": {},
   "outputs": [],
   "source": [
    "cur.execute(\"DROP TABLE address_test;\")"
   ]
  },
  {
   "cell_type": "markdown",
   "id": "d29437b0-b8c5-4e02-b783-3f78785a91fd",
   "metadata": {},
   "source": [
    "# Overview des autres tables pour la requête SQL "
   ]
  },
  {
   "cell_type": "code",
   "execution_count": 13,
   "id": "b6c1b66b-8670-40ad-a6e7-f19c0a9acf8e",
   "metadata": {},
   "outputs": [],
   "source": [
    "def sql_to_df(sql_query):\n",
    "    df = pd.read_sql(sql_query, conn)\n",
    "    return df"
   ]
  },
  {
   "cell_type": "code",
   "execution_count": 14,
   "id": "7594e1d3-a604-4066-9b7a-771c8013f7eb",
   "metadata": {},
   "outputs": [
    {
     "data": {
      "text/html": [
       "<div>\n",
       "<style scoped>\n",
       "    .dataframe tbody tr th:only-of-type {\n",
       "        vertical-align: middle;\n",
       "    }\n",
       "\n",
       "    .dataframe tbody tr th {\n",
       "        vertical-align: top;\n",
       "    }\n",
       "\n",
       "    .dataframe thead th {\n",
       "        text-align: right;\n",
       "    }\n",
       "</style>\n",
       "<table border=\"1\" class=\"dataframe\">\n",
       "  <thead>\n",
       "    <tr style=\"text-align: right;\">\n",
       "      <th></th>\n",
       "      <th>customer_id</th>\n",
       "      <th>store_id</th>\n",
       "      <th>first_name</th>\n",
       "      <th>last_name</th>\n",
       "      <th>email</th>\n",
       "      <th>address_id</th>\n",
       "      <th>active</th>\n",
       "      <th>create_date</th>\n",
       "      <th>last_update</th>\n",
       "    </tr>\n",
       "  </thead>\n",
       "  <tbody>\n",
       "    <tr>\n",
       "      <th>0</th>\n",
       "      <td>1</td>\n",
       "      <td>1</td>\n",
       "      <td>MARY</td>\n",
       "      <td>SMITH</td>\n",
       "      <td>MARY.SMITH@sakilacustomer.org</td>\n",
       "      <td>5</td>\n",
       "      <td>1</td>\n",
       "      <td>2006-02-14 22:04:36</td>\n",
       "      <td>2006-02-15 04:57:20</td>\n",
       "    </tr>\n",
       "    <tr>\n",
       "      <th>1</th>\n",
       "      <td>2</td>\n",
       "      <td>1</td>\n",
       "      <td>PATRICIA</td>\n",
       "      <td>JOHNSON</td>\n",
       "      <td>PATRICIA.JOHNSON@sakilacustomer.org</td>\n",
       "      <td>6</td>\n",
       "      <td>1</td>\n",
       "      <td>2006-02-14 22:04:36</td>\n",
       "      <td>2006-02-15 04:57:20</td>\n",
       "    </tr>\n",
       "  </tbody>\n",
       "</table>\n",
       "</div>"
      ],
      "text/plain": [
       "   customer_id  store_id first_name last_name  \\\n",
       "0            1         1       MARY     SMITH   \n",
       "1            2         1   PATRICIA   JOHNSON   \n",
       "\n",
       "                                 email  address_id  active  \\\n",
       "0        MARY.SMITH@sakilacustomer.org           5       1   \n",
       "1  PATRICIA.JOHNSON@sakilacustomer.org           6       1   \n",
       "\n",
       "          create_date         last_update  \n",
       "0 2006-02-14 22:04:36 2006-02-15 04:57:20  \n",
       "1 2006-02-14 22:04:36 2006-02-15 04:57:20  "
      ]
     },
     "execution_count": 14,
     "metadata": {},
     "output_type": "execute_result"
    }
   ],
   "source": [
    "query = ''' SELECT *\n",
    "            FROM customer LIMIT 2; '''\n",
    "\n",
    "sql_to_df(query).head()"
   ]
  },
  {
   "cell_type": "code",
   "execution_count": 15,
   "id": "c1fdd310-2164-41fa-9ed4-fc69b1d79322",
   "metadata": {},
   "outputs": [
    {
     "data": {
      "text/html": [
       "<div>\n",
       "<style scoped>\n",
       "    .dataframe tbody tr th:only-of-type {\n",
       "        vertical-align: middle;\n",
       "    }\n",
       "\n",
       "    .dataframe tbody tr th {\n",
       "        vertical-align: top;\n",
       "    }\n",
       "\n",
       "    .dataframe thead th {\n",
       "        text-align: right;\n",
       "    }\n",
       "</style>\n",
       "<table border=\"1\" class=\"dataframe\">\n",
       "  <thead>\n",
       "    <tr style=\"text-align: right;\">\n",
       "      <th></th>\n",
       "      <th>rental_id</th>\n",
       "      <th>rental_date</th>\n",
       "      <th>inventory_id</th>\n",
       "      <th>customer_id</th>\n",
       "      <th>return_date</th>\n",
       "      <th>staff_id</th>\n",
       "      <th>last_update</th>\n",
       "    </tr>\n",
       "  </thead>\n",
       "  <tbody>\n",
       "    <tr>\n",
       "      <th>0</th>\n",
       "      <td>1</td>\n",
       "      <td>2005-05-24 22:53:30</td>\n",
       "      <td>367</td>\n",
       "      <td>130</td>\n",
       "      <td>2005-05-26 22:04:30</td>\n",
       "      <td>1</td>\n",
       "      <td>2006-02-15 21:30:53</td>\n",
       "    </tr>\n",
       "    <tr>\n",
       "      <th>1</th>\n",
       "      <td>2</td>\n",
       "      <td>2005-05-24 22:54:33</td>\n",
       "      <td>1525</td>\n",
       "      <td>459</td>\n",
       "      <td>2005-05-28 19:40:33</td>\n",
       "      <td>1</td>\n",
       "      <td>2006-02-15 21:30:53</td>\n",
       "    </tr>\n",
       "  </tbody>\n",
       "</table>\n",
       "</div>"
      ],
      "text/plain": [
       "   rental_id         rental_date  inventory_id  customer_id  \\\n",
       "0          1 2005-05-24 22:53:30           367          130   \n",
       "1          2 2005-05-24 22:54:33          1525          459   \n",
       "\n",
       "          return_date  staff_id         last_update  \n",
       "0 2005-05-26 22:04:30         1 2006-02-15 21:30:53  \n",
       "1 2005-05-28 19:40:33         1 2006-02-15 21:30:53  "
      ]
     },
     "execution_count": 15,
     "metadata": {},
     "output_type": "execute_result"
    }
   ],
   "source": [
    "query = ''' SELECT *\n",
    "            FROM rental LIMIT 2; '''\n",
    "sql_to_df(query).head()"
   ]
  },
  {
   "cell_type": "markdown",
   "id": "3b23d6ef-b7a3-442e-a7c3-b60761aa02ff",
   "metadata": {},
   "source": [
    "## Requête SQL \n",
    "Nom du client, Prénom, Nombre de locations, Adresses postales, latitude et longitude. Il a uniquement besoin du client qui a fait le plus de locations de toute la base, afin de le féliciter."
   ]
  },
  {
   "cell_type": "code",
   "execution_count": 20,
   "id": "daade021-0aaf-4fdf-8e03-5ebc17a24c83",
   "metadata": {},
   "outputs": [
    {
     "data": {
      "text/html": [
       "<div>\n",
       "<style scoped>\n",
       "    .dataframe tbody tr th:only-of-type {\n",
       "        vertical-align: middle;\n",
       "    }\n",
       "\n",
       "    .dataframe tbody tr th {\n",
       "        vertical-align: top;\n",
       "    }\n",
       "\n",
       "    .dataframe thead th {\n",
       "        text-align: right;\n",
       "    }\n",
       "</style>\n",
       "<table border=\"1\" class=\"dataframe\">\n",
       "  <thead>\n",
       "    <tr style=\"text-align: right;\">\n",
       "      <th></th>\n",
       "      <th>last_name</th>\n",
       "      <th>first_name</th>\n",
       "      <th>nb_loc</th>\n",
       "      <th>address</th>\n",
       "      <th>city</th>\n",
       "      <th>postal_code</th>\n",
       "      <th>latitude</th>\n",
       "      <th>longitude</th>\n",
       "    </tr>\n",
       "  </thead>\n",
       "  <tbody>\n",
       "    <tr>\n",
       "      <th>0</th>\n",
       "      <td>HUNT</td>\n",
       "      <td>ELEANOR</td>\n",
       "      <td>46</td>\n",
       "      <td>17 IMP DES JARDINS</td>\n",
       "      <td>VALLEIRY</td>\n",
       "      <td>74520</td>\n",
       "      <td>None</td>\n",
       "      <td>None</td>\n",
       "    </tr>\n",
       "  </tbody>\n",
       "</table>\n",
       "</div>"
      ],
      "text/plain": [
       "  last_name first_name  nb_loc             address      city postal_code  \\\n",
       "0      HUNT    ELEANOR      46  17 IMP DES JARDINS  VALLEIRY       74520   \n",
       "\n",
       "  latitude longitude  \n",
       "0     None      None  "
      ]
     },
     "execution_count": 20,
     "metadata": {},
     "output_type": "execute_result"
    }
   ],
   "source": [
    "query = ''' SELECT last_name, first_name, COUNT(rental_id) AS nb_loc, address, city, postal_code, latitude, longitude \n",
    "            FROM customer c, rental r, address a \n",
    "            WHERE c.customer_id = r.customer_id AND c.address_id = a.address_id\n",
    "            GROUP BY r.customer_id \n",
    "            ORDER BY nb_loc DESC\n",
    "            LIMIT 1; '''\n",
    "\n",
    "sql_to_df(query).head()"
   ]
  }
 ],
 "metadata": {
  "kernelspec": {
   "display_name": "Python 3 (ipykernel)",
   "language": "python",
   "name": "python3"
  },
  "language_info": {
   "codemirror_mode": {
    "name": "ipython",
    "version": 3
   },
   "file_extension": ".py",
   "mimetype": "text/x-python",
   "name": "python",
   "nbconvert_exporter": "python",
   "pygments_lexer": "ipython3",
   "version": "3.9.7"
  }
 },
 "nbformat": 4,
 "nbformat_minor": 5
}
